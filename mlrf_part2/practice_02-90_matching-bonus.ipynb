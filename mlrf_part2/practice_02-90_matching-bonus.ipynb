{
 "cells": [
  {
   "cell_type": "markdown",
   "metadata": {},
   "source": [
    "EPITA 2020 MLRF practice_02-90_matching-bonus v2020-04-30_002250 by Joseph CHAZALON\n",
    "\n",
    "<div style=\"overflow: auto; padding: 10px; margin: 10px 0px\">\n",
    "<img alt=\"Creative Commons License\" src='img/CC-BY-4.0.png' style='float: left; margin-right: 20px'>\n",
    "    \n",
    "This work is licensed under a [Creative Commons Attribution 4.0 International License](http://creativecommons.org/licenses/by/4.0/).\n",
    "</div>"
   ]
  },
  {
   "cell_type": "markdown",
   "metadata": {},
   "source": [
    "# Pratice 02 Bonus level: Robustness to perturbations\n",
    "\n",
    "The goal here is to evaluate how local detectors and descriptors can tolerate perturbations.\n",
    "\n",
    "You need to produce a nice plot showing how the detectors and descriptors we created can tolerate rotation. Plot some indicator (relative number of matches, detections, etc.) against the rotation angle.\n",
    "\n",
    "You can use `cv2.getRotationMatrix2D`, `cv2.warpAffine` and NumPy matrix operations to rotate images.\n",
    "\n",
    "Make sure you use the same bubble (or image) twice (modulo rotation).\n",
    "\n",
    "Run and average your experiments over several bubbles."
   ]
  },
  {
   "cell_type": "code",
   "execution_count": null,
   "metadata": {},
   "outputs": [],
   "source": []
  }
 ],
 "metadata": {
  "kernelspec": {
   "display_name": "Python 3",
   "language": "python",
   "name": "python3"
  },
  "language_info": {
   "codemirror_mode": {
    "name": "ipython",
    "version": 3
   },
   "file_extension": ".py",
   "mimetype": "text/x-python",
   "name": "python",
   "nbconvert_exporter": "python",
   "pygments_lexer": "ipython3",
   "version": "3.6.7"
  }
 },
 "nbformat": 4,
 "nbformat_minor": 2
}
