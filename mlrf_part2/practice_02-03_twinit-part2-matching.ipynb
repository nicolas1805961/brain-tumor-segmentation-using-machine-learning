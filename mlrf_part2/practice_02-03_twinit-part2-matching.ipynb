{
 "cells": [
  {
   "cell_type": "markdown",
   "metadata": {},
   "source": [
    "EPITA 2020 MLRF practice_02-03_twinit-part2-matching v2020-04-30_002250 by Joseph CHAZALON\n",
    "\n",
    "<div style=\"overflow: auto; padding: 10px; margin: 10px 0px\">\n",
    "<img alt=\"Creative Commons License\" src='img/CC-BY-4.0.png' style='float: left; margin-right: 20px'>\n",
    "    \n",
    "This work is licensed under a [Creative Commons Attribution 4.0 International License](http://creativecommons.org/licenses/by/4.0/).\n",
    "</div>"
   ]
  },
  {
   "cell_type": "markdown",
   "metadata": {},
   "source": [
    "# Practice 02 part 03: Match keypoints and solve *Twin it!*\n",
    "In this part we will reuse pre-computed elements from the previous parts:\n",
    "- the distance matrix between bubbles computed from color histograms;\n",
    "- keypoints and descriptors for each bubble.\n",
    "\n",
    "The idea is to select pairs of bubbles which are close according to the color histogram, then to compare the descriptors extracted from each of them. Based on the number of near-identical matches, we will return a much compact list of twin candidates.\n",
    "\n",
    "This last part is decomposed into 3 steps:\n",
    "1. Prepare a matching framework to compare sets of descriptors.\n",
    "2. Reload all the pre-computed elements from the previous parts.\n",
    "3. Solve *Twin it!*.\n",
    "\n",
    "\n",
    "## 1. Prepare a matching framework\n",
    "Given two list of descriptors, $D_1$ and $D_2$ (which actually are flattened color image patches), we want to identify the matching pairs.\n",
    "\n",
    "**Instead of using a distance like the sum of squared differences, we will use a scoring approach, therefore the higher the score the better the matching.**\n",
    "\n",
    "This will be performed in three steps:\n",
    "1. Find for each element $d_i \\in D_1$ the best match $\\hat{d_j} \\in D_2$, ie build the set \n",
    "$$\n",
    "\\{\n",
    "(d_i,\\hat{d_j}) \\mid\n",
    "\\hat{d_j} = \\underset{d_j \\in D_2}{\\mathrm{argmax}} \\operatorname{score}(d_i, d_j)\n",
    "\\},\n",
    "$$\n",
    "with the constraint that the matching score of two elements is above a minimal threshold: $$\\operatorname{score}(d_i, d_j) > T.$$\n",
    "In practice we only store the indices of the matching pairs.\n",
    "2. Perform the reverse operation, find for each element $d_j \\in D_2$ its best match $\\hat{d_i} \\in D_1$.\n",
    "3. Keep only the matches which \"agree\", ie pairs that are in both sets.\n",
    "\n",
    "**No need to use large descriptors to test this step:** we know our descriptors are 1-dimensional NumPy arrays, so you can test very simple cases to check your method before running it on large descriptors."
   ]
  },
  {
   "cell_type": "code",
   "execution_count": null,
   "metadata": {},
   "outputs": [],
   "source": [
    "# deactivate buggy jupyter completion\n",
    "%config Completer.use_jedi = False"
   ]
  },
  {
   "cell_type": "code",
   "execution_count": null,
   "metadata": {},
   "outputs": [],
   "source": [
    "import numpy as np\n",
    "import cv2\n",
    "import matplotlib.pyplot as plt\n",
    "%matplotlib inline\n",
    "import os"
   ]
  },
  {
   "cell_type": "code",
   "execution_count": null,
   "metadata": {},
   "outputs": [],
   "source": [
    "# TODO\n",
    "PATH_TO_RESOURCES = \".\"  # FIXME set this to the path of the twinit resource directory"
   ]
  },
  {
   "cell_type": "markdown",
   "metadata": {},
   "source": [
    "#### Normalized cross correlation\n",
    "The scoring method we will use to compare the descriptors (color image patches) had the following formula, where $d_i$ and $d_j$ are two descriptors of the same size (`3*patchside**2`):\n",
    "$$\n",
    "\\operatorname{ncc}(d_i, d_j) = \n",
    "\\frac{1}{|d_i|} \n",
    "\\sum{\n",
    "    \\frac{d_i - \\bar{d_i}}{\\sigma_{d_i} + \\epsilon}\n",
    "    \\times\n",
    "    \\frac{d_j - \\bar{d_j}}{\\sigma_{d_j} + \\epsilon}\n",
    "    }\n",
    "$$\n",
    "where:\n",
    "- $|d_i| = |d_j|$ is the length of the descriptor;\n",
    "- $\\sum$ is the sum of the components of a vector;\n",
    "- $\\times$ is the component-wise product of two vectors;\n",
    "- $\\bar{d_i}$ is the mean value of $d_i$;\n",
    "- $\\sigma_{d_i}$ is the standard deviation of $d_i$;\n",
    "- $\\epsilon$ is a very small value ($\\ll 1$) to avoid instability when $\\sigma_{d_i} = 0$ (this may happens with buggy patches with constant values).\n",
    "\n",
    "This simply compares vectors whose values are shifted around $0$ and scaled.\n",
    "\n",
    "The result is close to $1$ for vectors which are highly colinears."
   ]
  },
  {
   "cell_type": "markdown",
   "metadata": {},
   "source": [
    "<div style=\"overflow: auto; border-style: dotted; border-width: 1px; padding: 10px; margin: 10px 0px\">\n",
    "<img alt=\"work\" src='img/work.png' style='float: left; margin-right: 20px'>\n",
    "\n",
    "**Complete the function below to compute a normalized cross correlation between descriptors.**\n",
    "\n",
    "Tip: Check Numpy documentation for your `np.array`s to find useful operations like `array.mean()` or `np.sum()`.\n",
    "</div>"
   ]
  },
  {
   "cell_type": "code",
   "execution_count": null,
   "metadata": {},
   "outputs": [],
   "source": [
    "# TODO complete this function\n",
    "def ncc(v1, v2, epsilon=10e-6):\n",
    "    '''Computes the normalized cross correlation between two vectors.'''\n",
    "    n = len(v1)\n",
    "    if n != len(v2):\n",
    "        raise ValueError(\"v1 and v2 must have the same len.\"\n",
    "                         \"I got len(v1)=%d and len(v2)=%d\" % (n, len(v2)))\n",
    "    ncc_value = -1.  # FIXME\n",
    "    return ncc_value"
   ]
  },
  {
   "cell_type": "code",
   "execution_count": null,
   "metadata": {},
   "outputs": [],
   "source": [
    "# RUN ME\n",
    "# Some tests to help you\n",
    "print(ncc(np.arange(10), np.arange(10,20)))\n",
    "print(ncc(np.arange(10), np.arange(20,10,-1)))"
   ]
  },
  {
   "cell_type": "markdown",
   "metadata": {},
   "source": [
    "<div style=\"overflow: auto; border-style: dotted; border-width: 1px; padding: 10px; margin: 10px 0px\">\n",
    "<img alt=\"work\" src='img/work.png' style='float: left; margin-right: 20px'>\n",
    "\n",
    "**Complete the functions below to compute matches between descriptors.**\n",
    "\n",
    "Tips:\n",
    "- Both functions returns the indices of the descriptors from `desc2` which are the best match to the descriptors from `desc1`, or `-1` if no suitable match is found.\n",
    "- Test the matching without injecting your normalized cross correlation at first.\n",
    "- `np.argsort(a)` gives the indices which sort `a`.\n",
    "- `np.nonzero(bool_array)` gives the indices where `bool_array` is `True`.\n",
    "</div>"
   ]
  },
  {
   "cell_type": "code",
   "execution_count": null,
   "metadata": {},
   "outputs": [],
   "source": [
    "# TODO complete this function\n",
    "def match(desc1, desc2, threshold=0.5):\n",
    "    \"\"\" For each descriptor in the first set, \n",
    "        select its best match in the second set\n",
    "        using normalized cross correlation.\n",
    "        --\n",
    "        Returns a list of the same size as desc1\n",
    "        where elements are either an indice from descr2\n",
    "        or -1 otherwise.\n",
    "        \"\"\"\n",
    "    \n",
    "    if len(desc1) == 0:\n",
    "        return np.array([])\n",
    "    if len(desc2) == 0:\n",
    "        return np.full(len(desc1), -1)\n",
    "    \n",
    "    bestmatches = np.full(len(desc1), -1)  # FIXME\n",
    "    \n",
    "    return bestmatches"
   ]
  },
  {
   "cell_type": "code",
   "execution_count": null,
   "metadata": {},
   "outputs": [],
   "source": [
    "# TODO complete this function\n",
    "def match_twosided(desc1, desc2, threshold=0.5):\n",
    "    \"\"\" Two-sided symmetric version of match().\n",
    "        --\n",
    "        Returns a list of the same size as desc1\n",
    "        where elements are either an indice from descr2\n",
    "        when symmetric match is verified,\n",
    "        or -1 otherwise.\n",
    "    \"\"\"\n",
    "    # Compute the matches\n",
    "    # FIXME\n",
    "    # matches_12 = ...\n",
    "    # matches_21 = ...\n",
    "    \n",
    "    # remove matches that are not symmetric\n",
    "    # FIXME\n",
    "    \n",
    "    return np.full(len(desc1), -1)  # FIXME"
   ]
  },
  {
   "cell_type": "markdown",
   "metadata": {},
   "source": [
    "## 2. Reload everything and match some bubbles\n",
    "**We are now ready to match descriptors for some bubbles!**\n",
    "\n",
    "We will compare some bubbles using the descriptors we previously computed."
   ]
  },
  {
   "cell_type": "markdown",
   "metadata": {},
   "source": [
    "<div style=\"overflow: auto; border-style: dotted; border-width: 1px; padding: 10px; margin: 10px 0px\">\n",
    "<img alt=\"work\" src='img/work.png' style='float: left; margin-right: 20px'>\n",
    "\n",
    "**Reload everything we need to match some bubbles, and solve the problem.**\n",
    "\n",
    "We need:\n",
    "- bubble images (color and grayscale),\n",
    "- the distance matrix between bubbles computed using color histograms,\n",
    "- the keypoints coordinates and descriptors we computed previously.\n",
    "</div>"
   ]
  },
  {
   "cell_type": "code",
   "execution_count": null,
   "metadata": {},
   "outputs": [],
   "source": [
    "# TODO load everything we need\n",
    "bubble_files = !ls $PATH_TO_RESOURCES/bubbles_200dpi/b*.png | sort\n",
    "bubbles = []  # FIXME\n",
    "bubbles_gray = []  # FIXME\n",
    "dist_mat = np.array([])  # FIXME\n",
    "# TIP: use some values we computed for the distance matrix:\n",
    "# npdata = np.load(PATH_TO_RESOURCES + \"/bubble_dist_mat_rgb7-cosine.npz\")\n",
    "# dist_mat = npdata[\"dist_mat\"]\n",
    "\n",
    "keypoints = []  # FIXME\n",
    "descriptors = []  # FIXME\n",
    "# TIP: use some values we computed for keypoints and descriptors\n",
    "# npdata = np.load(PATH_TO_RESOURCES + \"/kpts_descr_harris_25pxcolor_mdist10.npz\")\n",
    "# keypoints = npdata[\"keypoints\"]\n",
    "# descriptors = npdata[\"descriptors\"]\n",
    "\n",
    "len(bubbles), len(bubbles_gray), dist_mat.shape, len(keypoints), len(descriptors)"
   ]
  },
  {
   "cell_type": "markdown",
   "metadata": {},
   "source": [
    "<div style=\"overflow: auto; border-style: dotted; border-width: 1px; padding: 10px; margin: 10px 0px\">\n",
    "<img alt=\"work\" src='img/work.png' style='float: left; margin-right: 20px'>\n",
    "\n",
    "**Using the display function provided below, compute and display some matches between a couple of bubbles.**\n",
    "\n",
    "Tips:\n",
    "- Bubbles with indices `35` and `219` are good candidates. So are bubbles `49` and `278`.\n",
    "- Try to find a good value for the threshold.\n",
    "</div>"
   ]
  },
  {
   "cell_type": "code",
   "execution_count": null,
   "metadata": {},
   "outputs": [],
   "source": [
    "# Display functions\n",
    "def appendimages(im1, im2):\n",
    "    \"\"\" Return a new image that appends the two images side-by-side. \"\"\"\n",
    "    # select the image with the fewest rows and fill in enough empty rows\n",
    "    rows1 = im1.shape[0]    \n",
    "    rows2 = im2.shape[0]\n",
    "    if rows1 < rows2:\n",
    "        im1 = np.concatenate((im1, np.zeros((rows2-rows1,im1.shape[1]))),axis=0)\n",
    "    elif rows1 > rows2:\n",
    "        im2 = np.concatenate((im2, np.zeros((rows1-rows2,im2.shape[1]))),axis=0)\n",
    "    # if none of these cases they are equal, no filling needed.\n",
    "    return np.concatenate((im1,im2), axis=1)\n",
    "\n",
    "def plot_matches(im_gray1, im_gray2, locs1, locs2, matches, show_below=True):\n",
    "    \"\"\" Show a figure with lines joining the accepted matches \n",
    "        input: im_gray1,im_gray2 (images as arrays),\n",
    "        locs1,locs2 (feature locations, aka keypoints), \n",
    "        matches (as output from 'match()'), \n",
    "        show_below (if images should be shown below matches). \"\"\"\n",
    "    if im_gray1.ndim != 2 or im_gray2.ndim != 2:\n",
    "        raise ValueError(\"plot_matches takes gray images (ndim == 2) as arguments.\"\n",
    "                         \" I got im_gray1.ndim = %d and im_gray2.ndim = %d\" \n",
    "                         % (im_gray1.ndim, im_gray2.ndim))\n",
    "    im3 = appendimages(im_gray1, im_gray2)\n",
    "    if show_below:\n",
    "        im3 = np.vstack((im3,im3))\n",
    "    plt.figure()\n",
    "    plt.imshow(im3, cmap='gray')\n",
    "    cols1 = im_gray1.shape[1]\n",
    "    for i,m in enumerate(matches):\n",
    "        if m >= 0:\n",
    "            plt.plot([locs1[i][1],locs2[m][1]+cols1],[locs1[i][0],locs2[m][0]],'r')\n",
    "    plt.axis('off')\n",
    "    plt.show()"
   ]
  },
  {
   "cell_type": "code",
   "execution_count": null,
   "metadata": {},
   "outputs": [],
   "source": [
    "# TODO display some matches, both single way and symmetric\n"
   ]
  },
  {
   "cell_type": "markdown",
   "metadata": {},
   "source": [
    "<div style=\"overflow: auto; border-style: dotted; border-width: 1px; padding: 10px; margin: 10px 0px\">\n",
    "<img alt=\"work\" src='img/work.png' style='float: left; margin-right: 20px'>\n",
    "\n",
    "**Write down some observations about the previous matchings. What are the limitations of our approach?**\n",
    "</div>"
   ]
  },
  {
   "cell_type": "markdown",
   "metadata": {},
   "source": [
    "What are the limitations of the matching we implemented?\n",
    "\n",
    "**TODO**"
   ]
  },
  {
   "cell_type": "markdown",
   "metadata": {},
   "source": [
    "## 3. Solve *Twin it!*\n",
    "At last we can try to filter bubbles more efficiently.\n",
    "\n",
    "We will first pre-select the bubbles using the distance matrix computed using color histograms, then we will further filter this pre-selection using desriptor matching.\n",
    "Then, we will be able to count the number of matches to select best candidates."
   ]
  },
  {
   "cell_type": "markdown",
   "metadata": {},
   "source": [
    "<div style=\"overflow: auto; border-style: dotted; border-width: 1px; padding: 10px; margin: 10px 0px\">\n",
    "<img alt=\"work\" src='img/work.png' style='float: left; margin-right: 20px'>\n",
    "\n",
    "**Try to display only bubbles with twins. (Try to minimize the amount of human control.)**\n",
    "\n",
    "Tips:\n",
    "- For each bubble, display best candidates (if any).\n",
    "- Keep only a few (5 or so) candidates using the distance matrix computed on color histograms.\n",
    "- Use a restrictive threshold for descriptor matching (correlation > $0.9$).\n",
    "- Use the count of matches to make a decision.\n",
    "- Here are a few bubble ids to check if you do not have the time to run all the computation: `[0, 1, 35, 36, 43, 44, 49, 50, 91, 92, 105, 106]`.\n",
    "</div>"
   ]
  },
  {
   "cell_type": "code",
   "execution_count": null,
   "metadata": {},
   "outputs": [],
   "source": [
    "# TODO solve twin it!"
   ]
  },
  {
   "cell_type": "markdown",
   "metadata": {},
   "source": [
    "# Job done!\n",
    "You completed the session 2.\n",
    "\n",
    "You should write down some observations below, like what are the parameters we tuned and how."
   ]
  },
  {
   "cell_type": "markdown",
   "metadata": {},
   "source": [
    "<div style=\"overflow: auto; border-style: dotted; border-width: 1px; padding: 10px; margin: 10px 0px\">\n",
    "<img alt=\"work\" src='img/work.png' style='float: left; margin-right: 20px'>\n",
    "\n",
    "**Write some observations below.**\n",
    "\n",
    "Tips:\n",
    "- What are the parameters we tuned?\n",
    "- Are there other parameters in our method?\n",
    "</div>"
   ]
  },
  {
   "cell_type": "markdown",
   "metadata": {},
   "source": [
    "TODO write some observations."
   ]
  }
 ],
 "metadata": {
  "celltoolbar": "Tags",
  "hide_input": false,
  "kernelspec": {
   "display_name": "Python 3",
   "language": "python",
   "name": "python3"
  },
  "language_info": {
   "codemirror_mode": {
    "name": "ipython",
    "version": 3
   },
   "file_extension": ".py",
   "mimetype": "text/x-python",
   "name": "python",
   "nbconvert_exporter": "python",
   "pygments_lexer": "ipython3",
   "version": "3.6.7"
  },
  "varInspector": {
   "cols": {
    "lenName": 16,
    "lenType": 16,
    "lenVar": 40
   },
   "kernels_config": {
    "python": {
     "delete_cmd_postfix": "",
     "delete_cmd_prefix": "del ",
     "library": "var_list.py",
     "varRefreshCmd": "print(var_dic_list())"
    },
    "r": {
     "delete_cmd_postfix": ") ",
     "delete_cmd_prefix": "rm(",
     "library": "var_list.r",
     "varRefreshCmd": "cat(var_dic_list()) "
    }
   },
   "types_to_exclude": [
    "module",
    "function",
    "builtin_function_or_method",
    "instance",
    "_Feature"
   ],
   "window_display": false
  }
 },
 "nbformat": 4,
 "nbformat_minor": 2
}
