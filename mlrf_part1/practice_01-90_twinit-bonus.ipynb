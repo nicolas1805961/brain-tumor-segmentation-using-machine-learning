{
 "cells": [
  {
   "cell_type": "markdown",
   "metadata": {},
   "source": [
    "EPITA 2020 MLRF practice_01-90_twinit-bonus v2020-04-24_153023 by Joseph CHAZALON\n",
    "\n",
    "<div style=\"overflow: auto; padding: 10px; margin: 10px 0px\">\n",
    "<img alt=\"Creative Commons License\" src='img/CC-BY-4.0.png' style='float: left; margin-right: 20px'>\n",
    "    \n",
    "This work is licensed under a [Creative Commons Attribution 4.0 International License](http://creativecommons.org/licenses/by/4.0/).\n",
    "</div>"
   ]
  },
  {
   "cell_type": "markdown",
   "metadata": {},
   "source": [
    "# Practice session 1 bonus level: *Twin it!* pre-processing\n",
    "\n",
    "This is a bonus session, you are free!\n",
    "\n",
    "\n",
    "## Goal\n",
    "\n",
    "From the original full image (shown below)…\n",
    "![Twin it!](img/twin_it/twin_it_12dpi.jpg)\n",
    "\n",
    "… generate segmented bubbles, in separated files, with the background masked in black, like this:\n",
    "\n",
    "<img alt=\"b002\" src='img/twin_it/bubbles_200dpi/b002.png' style='height: 100px; float: left; margin-right: 20px'>\n",
    "<img alt=\"b003\" src='img/twin_it/bubbles_200dpi/b003.png' style='height: 100px; float: left; margin-right: 20px'>\n",
    "<img alt=\"b004\" src='img/twin_it/bubbles_200dpi/b004.png' style='height: 100px; float: left; margin-right: 20px'>\n",
    "<img alt=\"b005\" src='img/twin_it/bubbles_200dpi/b005.png' style='height: 100px; float: left; margin-right: 20px'>\n",
    "<img alt=\"b006\" src='img/twin_it/bubbles_200dpi/b006.png' style='height: 100px; float: left; margin-right: 20px'>\n",
    "<div style='clear: both'></div>\n",
    "\n",
    "\n",
    "## Hints\n",
    "\n",
    "Use connected component labelling twice, after thresholding the image, first to select the biggest component in the background (and remove the bubbles and their content), then to remove the small elements within the background.\n",
    "\n",
    "You can find useful documentation here:\n",
    "- [`cv2.connectedComponentsWithStats()`](https://docs.opencv.org/4.1.0/d3/dc0/group__imgproc__shape.html#ga107a78bf7cd25dec05fb4dfc5c9e765f)\n",
    "- [more information about the parameters](https://docs.opencv.org/4.1.0/d3/dc0/group__imgproc__shape.html#ga107a78bf7cd25dec05fb4dfc5c9e765f)\n",
    "\n",
    "You can also check the files `twin_it/bubbles_labels_stats.npz` and `twin_it/mask_bubbles.png` that we produced.\n",
    "\n",
    "## Bonus bonuses\n",
    "We did not do them, so good luck.\n",
    "\n",
    "### Distance study\n",
    "Plot the distribution of the distances/similarities for a given distance/similarity matrix.\n",
    "\n",
    "Is it possible to find an appropriate normalization (per bubble?) so we can have a better global threshold? (I do not think so).\n",
    "\n",
    "\n",
    "### Better patches\n",
    "Extract the largest possible rectangle inscribed in the bubble so we have a nice patch without background.\n",
    "\n",
    "An interesting approach: http://d3plus.org/blog/behind-the-scenes/2014/07/08/largest-rect/"
   ]
  },
  {
   "cell_type": "code",
   "execution_count": null,
   "metadata": {},
   "outputs": [],
   "source": [
    "#TODO"
   ]
  }
 ],
 "metadata": {
  "hide_input": false,
  "kernelspec": {
   "display_name": "Python 3",
   "language": "python",
   "name": "python3"
  },
  "language_info": {
   "codemirror_mode": {
    "name": "ipython",
    "version": 3
   },
   "file_extension": ".py",
   "mimetype": "text/x-python",
   "name": "python",
   "nbconvert_exporter": "python",
   "pygments_lexer": "ipython3",
   "version": "3.6.7"
  },
  "varInspector": {
   "cols": {
    "lenName": 16,
    "lenType": 16,
    "lenVar": 40
   },
   "kernels_config": {
    "python": {
     "delete_cmd_postfix": "",
     "delete_cmd_prefix": "del ",
     "library": "var_list.py",
     "varRefreshCmd": "print(var_dic_list())"
    },
    "r": {
     "delete_cmd_postfix": ") ",
     "delete_cmd_prefix": "rm(",
     "library": "var_list.r",
     "varRefreshCmd": "cat(var_dic_list()) "
    }
   },
   "types_to_exclude": [
    "module",
    "function",
    "builtin_function_or_method",
    "instance",
    "_Feature"
   ],
   "window_display": false
  }
 },
 "nbformat": 4,
 "nbformat_minor": 2
}
