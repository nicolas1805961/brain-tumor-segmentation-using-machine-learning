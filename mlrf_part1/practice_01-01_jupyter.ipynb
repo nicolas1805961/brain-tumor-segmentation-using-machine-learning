{
 "cells": [
  {
   "cell_type": "markdown",
   "metadata": {},
   "source": [
    "EPITA 2020 MLRF practice_01-01_jupyter v2020-04-24_152531 by Joseph CHAZALON\n",
    "\n",
    "<div style=\"overflow: auto; padding: 10px; margin: 10px 0px\">\n",
    "<img alt=\"Creative Commons License\" src='img/CC-BY-4.0.png' style='float: left; margin-right: 20px'>\n",
    "    \n",
    "This work is licensed under a [Creative Commons Attribution 4.0 International License](http://creativecommons.org/licenses/by/4.0/).\n",
    "</div>"
   ]
  },
  {
   "cell_type": "markdown",
   "metadata": {},
   "source": [
    "# Practice session 1 part 1: Jupyter\n",
    "\n",
    "This first session is based on a [Jupyter](https://jupyter.org/) notebook, like the future ones.\n",
    "We this this is a great format because:\n",
    "- it allows us to merge assignment subject with samples, leave holes to fill, etc.;\n",
    "- we can directly share code, comments, figures, etc. with you in a simple and easy way;\n",
    "- you can edit, complete and run the code;\n",
    "- you can take notes along with your experiments to produce great reports;\n",
    "- it is an emerging industrial tool.\n",
    "\n",
    "It may be a good idea to spent 10 minutes learning a few tricks about Jupyter.\n",
    "We'll focus on:\n",
    "1. manipulating cells,\n",
    "2. running code,\n",
    "3. writing comments,\n",
    "4. and glimpse the power of iPython's magic…\n",
    "\n",
    "You can safely skip this session if you already have experience using Jupyter.\n",
    "\n",
    "## Manipulating cells\n",
    "Jupyter has two modes:\n",
    "1. Command Mode (press <kbd>Esc</kbd>  to enable)\n",
    "2. Edit Mode (press <kbd>Enter</kbd> to enable)\n",
    "\n",
    "If you are using Chrome (which exhibited better compatibility in our tests), you can toggle the *command palette* by pressing <kbd>Ctrl</kbd>+<kbd>Shift</kbd>+<kbd>P</kbd> at any time."
   ]
  },
  {
   "cell_type": "markdown",
   "metadata": {},
   "source": [
    "<div style=\"overflow: auto; border-style: dotted; border-width: 1px; padding: 10px; margin: 10px 0px\">\n",
    "<img alt=\"work\" src='img/work.png' style='float: left; margin-right: 20px'>\n",
    "    \n",
    "**Press <kbd>Ctrl</kbd>+<kbd>Shift</kbd>+<kbd>P</kbd> now to reveal the command palette and type `shortcut` to look for keyboard shortcuts.**\n",
    "</div>"
   ]
  },
  {
   "cell_type": "markdown",
   "metadata": {},
   "source": [
    "You can change how cells are interpreted. In particular, 2 cell types are of interest:\n",
    "1. code (<kbd>Esc</kbd>+<kbd>y</kbd>) ← use it to write functions and call them\n",
    "2. markdown (<kbd>Ctrl</kbd>+<kbd>m</kbd>) ← use it to take notes    "
   ]
  },
  {
   "cell_type": "markdown",
   "metadata": {},
   "source": [
    "<div style=\"overflow: auto; border-style: dotted; border-width: 1px; padding: 10px; margin: 10px 0px\">\n",
    "<img alt=\"work\" src='img/work.png' style='float: left; margin-right: 20px'>\n",
    "    \n",
    "**Focus this cell and change its type. Notice how syntax highlighting is changing.**\n",
    "</div>"
   ]
  },
  {
   "cell_type": "markdown",
   "metadata": {},
   "source": [
    "You can also insert, merge, copy, paste, delete, move cells."
   ]
  },
  {
   "cell_type": "markdown",
   "metadata": {},
   "source": [
    "<div style=\"overflow: auto; border-style: dotted; border-width: 1px; padding: 10px; margin: 10px 0px\">\n",
    "<img alt=\"work\" src='img/work.png' style='float: left; margin-right: 20px'>\n",
    "    \n",
    "**Check the keyboard shortcut by pressing <kbd>h</kbd> in command mode, then look for some shortcuts.**\n",
    "**Make sure to remember the shortcuts for inserting above (<kbd>a</kbd>), below (<kbd>b</kbd>) and delete (<kbd>d</kbd>+<kbd>d</kbd>) because you will use them all the time.**\n",
    "</div>"
   ]
  },
  {
   "cell_type": "markdown",
   "metadata": {},
   "source": [
    "## Running cells\n",
    "Running a cell is so easy!\n",
    "1. First enter edit mode (<kbd>Enter</kbd>)\n",
    "2. Then use either:\n",
    "  - <kbd>Ctrl</kbd>+<kbd>Enter</kbd> to run and focus this cell in command mode;\n",
    "  - <kbd>Shift</kbd>+<kbd>Enter</kbd> to run the current cell and focus the next one in command mode;\n",
    "  - <kbd>Alt</kbd>+<kbd>Enter</kbd> to run the current cell, insert a new one below, and enter edit mode for the new cell."
   ]
  },
  {
   "cell_type": "markdown",
   "metadata": {},
   "source": [
    "<div style=\"overflow: auto; border-style: dotted; border-width: 1px; padding: 10px; margin: 10px 0px\">\n",
    "<img alt=\"work\" src='img/work.png' style='float: left; margin-right: 20px'>\n",
    "    \n",
    "**Now focus the cell below, change its mode to code, then run it.**\n",
    "</div>"
   ]
  },
  {
   "cell_type": "raw",
   "metadata": {},
   "source": [
    "print('$qsD!Me+nsodd= 1l lre3W$'[-2:2:-2])"
   ]
  },
  {
   "cell_type": "markdown",
   "metadata": {},
   "source": [
    "## Writing comments\n",
    "Writing comments is really easy too: just change the cell type to [markdown](https://github.com/adam-p/markdown-here/wiki/Markdown-Cheatsheet) and write text in ~~ReStructured~~ format.\n",
    "\n",
    "It is as easy as $1 + 1 = 3$!\n",
    "\n",
    "Or even:\n",
    "\n",
    "$$(f * g)(t) \\triangleq\\ \\int_{-\\infty}^\\infty f(\\tau) g(t - \\tau) \\, d\\tau$$"
   ]
  },
  {
   "cell_type": "markdown",
   "metadata": {},
   "source": [
    "<div style=\"overflow: auto; border-style: dotted; border-width: 1px; padding: 10px; margin: 10px 0px\">\n",
    "<img alt=\"work\" src='img/work.png' style='float: left; margin-right: 20px'>\n",
    "    \n",
    "**Edit and correct the errors in the previous cell.**\n",
    "</div>"
   ]
  },
  {
   "cell_type": "markdown",
   "metadata": {},
   "source": [
    "## iPython's magic\n",
    "Jupyter is a tool to display notebooks and run code in *kernels*.\n",
    "\n",
    "It uses [iPython](https://ipython.org/) to interactively run Python code.\n",
    "\n",
    "iPython provides [much more features](https://ipython.readthedocs.io/en/stable/overview.html) than the default Python interpreter, among which:\n",
    "- completion using the <kbd>Tab</kbd> key;\n",
    "- interaction with the shell using `!`, `!!` or `var = !shell_command` constructs which allows both to run shell commands and capture their output in a very easy way (and you can pass Python variables to the shell using `$` constructs;\n",
    "- *magic* commands for a line (`%` magics) or for a cell (`%%` magics);\n",
    "- instant help using `?` and `??` constructs with optional wildcards."
   ]
  },
  {
   "cell_type": "markdown",
   "metadata": {},
   "source": [
    "<div style=\"overflow: auto; border-style: dotted; border-width: 1px; padding: 10px; margin: 10px 0px\">\n",
    "<img alt=\"work\" src='img/work.png' style='float: left; margin-right: 20px'>\n",
    "    \n",
    "**Use the `%quickref` magic to have a look at all available features.**\n",
    "</div>"
   ]
  },
  {
   "cell_type": "code",
   "execution_count": 3,
   "metadata": {},
   "outputs": [
    {
     "output_type": "stream",
     "text": "\nIPython -- An enhanced Interactive Python - Quick Reference Card\n================================================================\n\nobj?, obj??      : Get help, or more help for object (also works as\n                   ?obj, ??obj).\n?foo.*abc*       : List names in 'foo' containing 'abc' in them.\n%magic           : Information about IPython's 'magic' % functions.\n\nMagic functions are prefixed by % or %%, and typically take their arguments\nwithout parentheses, quotes or even commas for convenience.  Line magics take a\nsingle % and cell magics are prefixed with two %%.\n\nExample magic function calls:\n\n%alias d ls -F   : 'd' is now an alias for 'ls -F'\nalias d ls -F    : Works if 'alias' not a python name\nalist = %alias   : Get list of aliases to 'alist'\ncd /usr/share    : Obvious. cd -<tab> to choose from visited dirs.\n%cd??            : See help AND source for magic %cd\n%timeit x=10     : time the 'x=10' statement with high precision.\n%%timeit x=2**100\nx**100           : time 'x**100' with a setup of 'x=2**100'; setup code is not\n                   counted.  This is an example of a cell magic.\n\nSystem commands:\n\n!cp a.txt b/     : System command escape, calls os.system()\ncp a.txt b/      : after %rehashx, most system commands work without !\ncp ${f}.txt $bar : Variable expansion in magics and system commands\nfiles = !ls /usr : Capture system command output\nfiles.s, files.l, files.n: \"a b c\", ['a','b','c'], 'a\\nb\\nc'\n\nHistory:\n\n_i, _ii, _iii    : Previous, next previous, next next previous input\n_i4, _ih[2:5]    : Input history line 4, lines 2-4\nexec _i81        : Execute input history line #81 again\n%rep 81          : Edit input history line #81\n_, __, ___       : previous, next previous, next next previous output\n_dh              : Directory history\n_oh              : Output history\n%hist            : Command history of current session.\n%hist -g foo     : Search command history of (almost) all sessions for 'foo'.\n%hist -g         : Command history of (almost) all sessions.\n%hist 1/2-8      : Command history containing lines 2-8 of session 1.\n%hist 1/ ~2/     : Command history of session 1 and 2 sessions before current.\n%hist ~8/1-~6/5  : Command history from line 1 of 8 sessions ago to\n                   line 5 of 6 sessions ago.\n%edit 0/         : Open editor to execute code with history of current session.\n\nAutocall:\n\nf 1,2            : f(1,2)  # Off by default, enable with %autocall magic.\n/f 1,2           : f(1,2) (forced autoparen)\n,f 1 2           : f(\"1\",\"2\")\n;f 1 2           : f(\"1 2\")\n\nRemember: TAB completion works in many contexts, not just file names\nor python names.\n\nThe following magic functions are currently available:\n\n%alias:\n    Define an alias for a system command.\n%alias_magic:\n    ::\n%autoawait:\n    \n%autocall:\n    Make functions callable without having to type parentheses.\n%automagic:\n    Make magic functions callable without having to type the initial %.\n%autosave:\n    Set the autosave interval in the notebook (in seconds).\n%bookmark:\n    Manage IPython's bookmark system.\n%cat:\n    Alias for `!cat`\n%cd:\n    Change the current working directory.\n%clear:\n    Clear the terminal.\n%colors:\n    Switch color scheme for prompts, info system and exception handlers.\n%conda:\n    Run the conda package manager within the current kernel.\n%config:\n    configure IPython\n%connect_info:\n    Print information for connecting other clients to this kernel\n%cp:\n    Alias for `!cp`\n%debug:\n    ::\n%dhist:\n    Print your history of visited directories.\n%dirs:\n    Return the current directory stack.\n%doctest_mode:\n    Toggle doctest mode on and off.\n%ed:\n    Alias for `%edit`.\n%edit:\n    Bring up an editor and execute the resulting code.\n%env:\n    Get, set, or list environment variables.\n%gui:\n    Enable or disable IPython GUI event loop integration.\n%hist:\n    Alias for `%history`.\n%history:\n    ::\n%killbgscripts:\n    Kill all BG processes started by %%script and its family.\n%ldir:\n    Alias for `!ls -F -o --color %l | grep /$`\n%less:\n    Show a file through the pager.\n%lf:\n    Alias for `!ls -F -o --color %l | grep ^-`\n%lk:\n    Alias for `!ls -F -o --color %l | grep ^l`\n%ll:\n    Alias for `!ls -F -o --color`\n%load:\n    Load code into the current frontend.\n%load_ext:\n    Load an IPython extension by its module name.\n%loadpy:\n    Alias of `%load`\n%logoff:\n    Temporarily stop logging.\n%logon:\n    Restart logging.\n%logstart:\n    Start logging anywhere in a session.\n%logstate:\n    Print the status of the logging system.\n%logstop:\n    Fully stop logging and close log file.\n%ls:\n    Alias for `!ls -F --color`\n%lsmagic:\n    List currently available magic functions.\n%lx:\n    Alias for `!ls -F -o --color %l | grep ^-..x`\n%macro:\n    Define a macro for future re-execution. It accepts ranges of history,\n%magic:\n    Print information about the magic function system.\n%man:\n    Find the man page for the given command and display in pager.\n%matplotlib:\n    ::\n%mkdir:\n    Alias for `!mkdir`\n%more:\n    Show a file through the pager.\n%mv:\n    Alias for `!mv`\n%notebook:\n    ::\n%page:\n    Pretty print the object and display it through a pager.\n%pastebin:\n    Upload code to dpaste's paste bin, returning the URL.\n%pdb:\n    Control the automatic calling of the pdb interactive debugger.\n%pdef:\n    Print the call signature for any callable object.\n%pdoc:\n    Print the docstring for an object.\n%pfile:\n    Print (or run through pager) the file where an object is defined.\n%pinfo:\n    Provide detailed information about an object.\n%pinfo2:\n    Provide extra detailed information about an object.\n%pip:\n    Run the pip package manager within the current kernel.\n%popd:\n    Change to directory popped off the top of the stack.\n%pprint:\n    Toggle pretty printing on/off.\n%precision:\n    Set floating point precision for pretty printing.\n%prun:\n    Run a statement through the python code profiler.\n%psearch:\n    Search for object in namespaces by wildcard.\n%psource:\n    Print (or run through pager) the source code for an object.\n%pushd:\n    Place the current dir on stack and change directory.\n%pwd:\n    Return the current working directory path.\n%pycat:\n    Show a syntax-highlighted file through a pager.\n%pylab:\n    ::\n%qtconsole:\n    Open a qtconsole connected to this kernel.\n%quickref:\n    Show a quick reference sheet \n%recall:\n    Repeat a command, or get command to input line for editing.\n%rehashx:\n    Update the alias table with all executable files in $PATH.\n%reload_ext:\n    Reload an IPython extension by its module name.\n%rep:\n    Alias for `%recall`.\n%rerun:\n    Re-run previous input\n%reset:\n    Resets the namespace by removing all names defined by the user, if\n%reset_selective:\n    Resets the namespace by removing names defined by the user.\n%rm:\n    Alias for `!rm`\n%rmdir:\n    Alias for `!rmdir`\n%run:\n    Run the named file inside IPython as a program.\n%save:\n    Save a set of lines or a macro to a given filename.\n%sc:\n    Shell capture - run shell command and capture output (DEPRECATED use !).\n%set_env:\n    Set environment variables.  Assumptions are that either \"val\" is a\n%store:\n    Lightweight persistence for python variables.\n%sx:\n    Shell execute - run shell command and capture output (!! is short-hand).\n%system:\n    Shell execute - run shell command and capture output (!! is short-hand).\n%tb:\n    Print the last traceback.\n%time:\n    Time execution of a Python statement or expression.\n%timeit:\n    Time execution of a Python statement or expression\n%unalias:\n    Remove an alias\n%unload_ext:\n    Unload an IPython extension by its module name.\n%who:\n    Print all interactive variables, with some minimal formatting.\n%who_ls:\n    Return a sorted list of all interactive variables.\n%whos:\n    Like %who, but gives some extra information about each variable.\n%xdel:\n    Delete a variable, trying to clear it from anywhere that\n%xmode:\n    Switch modes for the exception handlers.\n%%!:\n    Shell execute - run shell command and capture output (!! is short-hand).\n%%HTML:\n    Alias for `%%html`.\n%%SVG:\n    Alias for `%%svg`.\n%%bash:\n    %%bash script magic\n%%capture:\n    ::\n%%debug:\n    ::\n%%file:\n    Alias for `%%writefile`.\n%%html:\n    ::\n%%javascript:\n    Run the cell block of Javascript code\n%%js:\n    Run the cell block of Javascript code\n%%latex:\n    Render the cell as a block of latex\n%%markdown:\n    Render the cell as Markdown text block\n%%perl:\n    %%perl script magic\n%%prun:\n    Run a statement through the python code profiler.\n%%pypy:\n    %%pypy script magic\n%%python:\n    %%python script magic\n%%python2:\n    %%python2 script magic\n%%python3:\n    %%python3 script magic\n%%ruby:\n    %%ruby script magic\n%%script:\n    ::\n%%sh:\n    %%sh script magic\n%%svg:\n    Render the cell as an SVG literal\n%%sx:\n    Shell execute - run shell command and capture output (!! is short-hand).\n%%system:\n    Shell execute - run shell command and capture output (!! is short-hand).\n%%time:\n    Time execution of a Python statement or expression.\n%%timeit:\n    Time execution of a Python statement or expression\n%%writefile:\n    ::\n"
    }
   ],
   "source": [
    "# TODO Call this cell!\n",
    "%quickref"
   ]
  },
  {
   "cell_type": "markdown",
   "metadata": {},
   "source": [
    "<div style=\"overflow: auto; border-style: dotted; border-width: 1px; padding: 10px; margin: 10px 0px\">\n",
    "<img alt=\"work\" src='img/work.png' style='float: left; margin-right: 20px'>\n",
    "    \n",
    "**Capture the list of notebook files in the current folder to a custum variable using shell escape `!`.**\n",
    "</div>"
   ]
  },
  {
   "cell_type": "code",
   "execution_count": null,
   "metadata": {},
   "outputs": [],
   "source": [
    "# TODO fix this cell\n",
    "notebooks = !echo nothing\n",
    "notebooks[:10]"
   ]
  },
  {
   "cell_type": "markdown",
   "metadata": {},
   "source": [
    "Let's complete this preambule by measuring how much time is necessary to perform a simple computation.\n",
    "\n",
    "Here is a [simple function](https://en.wikipedia.org/wiki/Collatz_conjecture) which return a positive integer for any positive integer > 0."
   ]
  },
  {
   "cell_type": "code",
   "execution_count": null,
   "metadata": {},
   "outputs": [],
   "source": [
    "def collatz_total_stopping_time(n):\n",
    "    if not n > 0:\n",
    "        raise ValueError(\"n must be > 0\")\n",
    "    nn = n\n",
    "    i = 0\n",
    "    while nn > 1:\n",
    "        if nn % 2 == 0:\n",
    "            nn = nn / 2\n",
    "        else:\n",
    "            nn = nn * 3 + 1\n",
    "        i += 1\n",
    "    return i"
   ]
  },
  {
   "cell_type": "markdown",
   "metadata": {},
   "source": [
    "<div style=\"overflow: auto; border-style: dotted; border-width: 1px; padding: 10px; margin: 10px 0px\">\n",
    "<img alt=\"work\" src='img/work.png' style='float: left; margin-right: 20px'>\n",
    "    \n",
    "**Now measure the time required to compute the value associated to some arbitrary number (like $63,728,127$).**\n",
    "</div>"
   ]
  },
  {
   "cell_type": "code",
   "execution_count": 4,
   "metadata": {},
   "outputs": [
    {
     "output_type": "error",
     "ename": "NameError",
     "evalue": "name 'collatz_total_stopping_time' is not defined",
     "traceback": [
      "\u001b[0;31m---------------------------------------------------------------------------\u001b[0m",
      "\u001b[0;31mNameError\u001b[0m                                 Traceback (most recent call last)",
      "\u001b[0;32m<ipython-input-4-973b3b52bae1>\u001b[0m in \u001b[0;36m<module>\u001b[0;34m\u001b[0m\n\u001b[0;32m----> 1\u001b[0;31m \u001b[0mcollatz_total_stopping_time\u001b[0m\u001b[0;34m(\u001b[0m\u001b[0;36m63728127\u001b[0m\u001b[0;34m)\u001b[0m\u001b[0;34m\u001b[0m\u001b[0;34m\u001b[0m\u001b[0m\n\u001b[0m",
      "\u001b[0;31mNameError\u001b[0m: name 'collatz_total_stopping_time' is not defined"
     ]
    }
   ],
   "source": [
    "collatz_total_stopping_time(63728127)"
   ]
  },
  {
   "cell_type": "markdown",
   "metadata": {},
   "source": [
    "Finally, let's try to find which numbers in $[1, 100000]$ produces the greatest output."
   ]
  },
  {
   "cell_type": "markdown",
   "metadata": {},
   "source": [
    "<div style=\"overflow: auto; border-style: dotted; border-width: 1px; padding: 10px; margin: 10px 0px\">\n",
    "<img alt=\"work\" src='img/work.png' style='float: left; margin-right: 20px'>\n",
    "    \n",
    "**Now measure the time required to compute the result for the following cell.**\n",
    "</div>"
   ]
  },
  {
   "cell_type": "code",
   "execution_count": null,
   "metadata": {},
   "outputs": [],
   "source": [
    "max_i = 0\n",
    "max_n = 1\n",
    "for n in range(1, 100000+1):\n",
    "    i = collatz_total_stopping_time(n)\n",
    "    if i > max_i:\n",
    "        max_i = i\n",
    "        max_n = n\n",
    "max_n, max_i"
   ]
  },
  {
   "cell_type": "markdown",
   "metadata": {},
   "source": [
    "And, to complete this short list of tips and tricks, my favorite: the **online help**.\n",
    "You can add `?` at the beginning or the end of a line to display the help about the related symbol."
   ]
  },
  {
   "cell_type": "markdown",
   "metadata": {},
   "source": [
    "<div style=\"overflow: auto; border-style: dotted; border-width: 1px; padding: 10px; margin: 10px 0px\">\n",
    "<img alt=\"work\" src='img/work.png' style='float: left; margin-right: 20px'>\n",
    "    \n",
    "**Try to display some help about a well-known function.**\n",
    "\n",
    "*Tip: using two `?`s should provide more help, if available.*\n",
    "</div>"
   ]
  },
  {
   "cell_type": "code",
   "execution_count": 1,
   "metadata": {},
   "outputs": [
    {
     "output_type": "stream",
     "text": "\u001b[0;31mInit signature:\u001b[0m \u001b[0mzip\u001b[0m\u001b[0;34m(\u001b[0m\u001b[0mself\u001b[0m\u001b[0;34m,\u001b[0m \u001b[0;34m/\u001b[0m\u001b[0;34m,\u001b[0m \u001b[0;34m*\u001b[0m\u001b[0margs\u001b[0m\u001b[0;34m,\u001b[0m \u001b[0;34m**\u001b[0m\u001b[0mkwargs\u001b[0m\u001b[0;34m)\u001b[0m\u001b[0;34m\u001b[0m\u001b[0;34m\u001b[0m\u001b[0m\n\u001b[0;31mDocstring:\u001b[0m     \nzip(*iterables) --> zip object\n\nReturn a zip object whose .__next__() method returns a tuple where\nthe i-th element comes from the i-th iterable argument.  The .__next__()\nmethod continues until the shortest iterable in the argument sequence\nis exhausted and then it raises StopIteration.\n\u001b[0;31mType:\u001b[0m           type\n\u001b[0;31mSubclasses:\u001b[0m     \n"
    }
   ],
   "source": [
    "# TODO run this cell\n",
    "zip?"
   ]
  },
  {
   "cell_type": "markdown",
   "metadata": {},
   "source": [
    "You can also use wildcards to display all matching symbols in the current namespace!\n",
    "\n",
    "This can be particularly useful with OpenCV to locate some functions.\n",
    "\n",
    "You can use this trick like this:"
   ]
  },
  {
   "cell_type": "code",
   "execution_count": 2,
   "metadata": {},
   "outputs": [
    {
     "output_type": "stream",
     "text": "cv2.connectedComponents\ncv2.connectedComponentsWithAlgorithm\ncv2.connectedComponentsWithStats\ncv2.connectedComponentsWithStatsWithAlgorithm"
    }
   ],
   "source": [
    "import cv2\n",
    "cv2.*onnected*?"
   ]
  },
  {
   "cell_type": "markdown",
   "metadata": {},
   "source": [
    "# Job done!\n",
    "Now you're ready to move on to the next stage: [Sharpening your NumPy-fu skills](practice_01-02_numpy.ipynb)."
   ]
  }
 ],
 "metadata": {
  "kernelspec": {
   "display_name": "Python 3",
   "language": "python",
   "name": "python3"
  },
  "language_info": {
   "codemirror_mode": {
    "name": "ipython",
    "version": 3
   },
   "file_extension": ".py",
   "mimetype": "text/x-python",
   "name": "python",
   "nbconvert_exporter": "python",
   "pygments_lexer": "ipython3",
   "version": "3.8.0-final"
  }
 },
 "nbformat": 4,
 "nbformat_minor": 2
}